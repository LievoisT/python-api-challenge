{
 "cells": [
  {
   "cell_type": "code",
   "execution_count": 1,
   "metadata": {},
   "outputs": [],
   "source": [
    "import pandas as pd\n",
    "import numpy as np\n",
    "import matplotlib.pyplot as plt\n",
    "from scipy import stats\n",
    "from config import gkey\n",
    "import gmaps\n",
    "import requests"
   ]
  },
  {
   "cell_type": "code",
   "execution_count": 2,
   "metadata": {},
   "outputs": [
    {
     "data": {
      "text/html": [
       "<div>\n",
       "<style scoped>\n",
       "    .dataframe tbody tr th:only-of-type {\n",
       "        vertical-align: middle;\n",
       "    }\n",
       "\n",
       "    .dataframe tbody tr th {\n",
       "        vertical-align: top;\n",
       "    }\n",
       "\n",
       "    .dataframe thead th {\n",
       "        text-align: right;\n",
       "    }\n",
       "</style>\n",
       "<table border=\"1\" class=\"dataframe\">\n",
       "  <thead>\n",
       "    <tr style=\"text-align: right;\">\n",
       "      <th></th>\n",
       "      <th>City</th>\n",
       "      <th>Latitude</th>\n",
       "      <th>Longitude</th>\n",
       "      <th>Temperature</th>\n",
       "      <th>Humidity</th>\n",
       "      <th>Cloudiness</th>\n",
       "      <th>Wind Speed</th>\n",
       "    </tr>\n",
       "  </thead>\n",
       "  <tbody>\n",
       "    <tr>\n",
       "      <th>0</th>\n",
       "      <td>Albany</td>\n",
       "      <td>-35.02</td>\n",
       "      <td>117.89</td>\n",
       "      <td>57.200</td>\n",
       "      <td>71</td>\n",
       "      <td>40</td>\n",
       "      <td>4.10</td>\n",
       "    </tr>\n",
       "    <tr>\n",
       "      <th>1</th>\n",
       "      <td>Donauwörth</td>\n",
       "      <td>48.70</td>\n",
       "      <td>10.80</td>\n",
       "      <td>55.706</td>\n",
       "      <td>91</td>\n",
       "      <td>99</td>\n",
       "      <td>0.89</td>\n",
       "    </tr>\n",
       "    <tr>\n",
       "      <th>2</th>\n",
       "      <td>Suntar</td>\n",
       "      <td>62.14</td>\n",
       "      <td>117.63</td>\n",
       "      <td>72.824</td>\n",
       "      <td>50</td>\n",
       "      <td>86</td>\n",
       "      <td>0.75</td>\n",
       "    </tr>\n",
       "    <tr>\n",
       "      <th>3</th>\n",
       "      <td>Lakes Entrance</td>\n",
       "      <td>-37.88</td>\n",
       "      <td>147.98</td>\n",
       "      <td>68.000</td>\n",
       "      <td>48</td>\n",
       "      <td>59</td>\n",
       "      <td>2.26</td>\n",
       "    </tr>\n",
       "    <tr>\n",
       "      <th>4</th>\n",
       "      <td>Wakkanai</td>\n",
       "      <td>45.41</td>\n",
       "      <td>141.67</td>\n",
       "      <td>57.200</td>\n",
       "      <td>76</td>\n",
       "      <td>75</td>\n",
       "      <td>5.10</td>\n",
       "    </tr>\n",
       "  </tbody>\n",
       "</table>\n",
       "</div>"
      ],
      "text/plain": [
       "             City  Latitude  Longitude  Temperature  Humidity  Cloudiness  \\\n",
       "0          Albany    -35.02     117.89       57.200        71          40   \n",
       "1      Donauwörth     48.70      10.80       55.706        91          99   \n",
       "2          Suntar     62.14     117.63       72.824        50          86   \n",
       "3  Lakes Entrance    -37.88     147.98       68.000        48          59   \n",
       "4        Wakkanai     45.41     141.67       57.200        76          75   \n",
       "\n",
       "   Wind Speed  \n",
       "0        4.10  \n",
       "1        0.89  \n",
       "2        0.75  \n",
       "3        2.26  \n",
       "4        5.10  "
      ]
     },
     "execution_count": 2,
     "metadata": {},
     "output_type": "execute_result"
    }
   ],
   "source": [
    "df = pd.read_csv(\"cities.csv\")\n",
    "df.head()"
   ]
  },
  {
   "cell_type": "code",
   "execution_count": 3,
   "metadata": {},
   "outputs": [],
   "source": [
    "gmaps.configure(api_key=gkey)"
   ]
  },
  {
   "cell_type": "code",
   "execution_count": 4,
   "metadata": {},
   "outputs": [],
   "source": [
    "\n"
   ]
  },
  {
   "cell_type": "code",
   "execution_count": 5,
   "metadata": {},
   "outputs": [
    {
     "name": "stdout",
     "output_type": "stream",
     "text": [
      "<class 'pandas.core.frame.DataFrame'>\n",
      "Int64Index: 25 entries, 8 to 487\n",
      "Data columns (total 7 columns):\n",
      " #   Column       Non-Null Count  Dtype  \n",
      "---  ------       --------------  -----  \n",
      " 0   City         25 non-null     object \n",
      " 1   Latitude     25 non-null     float64\n",
      " 2   Longitude    25 non-null     float64\n",
      " 3   Temperature  25 non-null     float64\n",
      " 4   Humidity     25 non-null     int64  \n",
      " 5   Cloudiness   25 non-null     int64  \n",
      " 6   Wind Speed   25 non-null     float64\n",
      "dtypes: float64(4), int64(2), object(1)\n",
      "memory usage: 1.6+ KB\n"
     ]
    }
   ],
   "source": [
    "fairdf = df.loc[(df[\"Temperature\"]<80) & (df[\"Temperature\"]>70) & (df[\"Wind Speed\"]< 10) & (df[\"Cloudiness\"]==0)]\n",
    "fairdf.info()"
   ]
  },
  {
   "cell_type": "code",
   "execution_count": 6,
   "metadata": {},
   "outputs": [],
   "source": [
    "locations = []\n",
    "for index, row in fairdf.iterrows():\n",
    "    locations.append([row[1], row[2]])\n"
   ]
  },
  {
   "cell_type": "code",
   "execution_count": 12,
   "metadata": {},
   "outputs": [
    {
     "data": {
      "text/plain": [
       "[[56.8009692, 105.7854887],\n",
       " [-24.879496, 113.661517],\n",
       " [-22.1179497, 14.2768611],\n",
       " [-25.240746, 130.983085],\n",
       " [68.05040079999999, 166.472936],\n",
       " [-23.7150157, 133.879153],\n",
       " [35.8853952, 14.5200067],\n",
       " [-22.9612833, 14.4830456],\n",
       " [-22.4168075, 14.9810114],\n",
       " [53.6083384, 109.6005022],\n",
       " [24.0804775, 32.8807065],\n",
       " [31.4478222, 12.9838564],\n",
       " [36.2829986, 59.6109913],\n",
       " [29.9452739, 40.1811555],\n",
       " [36.9029314, 50.658175],\n",
       " [36.3298503, 30.2797685],\n",
       " [32.7670277, 22.6481129]]"
      ]
     },
     "execution_count": 12,
     "metadata": {},
     "output_type": "execute_result"
    }
   ],
   "source": [
    "hotel = []\n",
    "country = []\n",
    "locs = []\n",
    "base = \"https://maps.googleapis.com/maps/api/place/nearbysearch/json\"\n",
    "for location in locations:\n",
    "    params = {\"key\": gkey,\n",
    "             \"radius\": 5000,\n",
    "             \"location\": f\"{location[0]},{location[1]}\",\n",
    "             \"keyword\": \"Hotel\"}\n",
    "    try:\n",
    "        req = requests.get(base, params=params).json()\n",
    "        hotel.append(req[\"results\"][0][\"name\"])\n",
    "        country.append(req[\"results\"][0][\"vicinity\"])\n",
    "        locs.append([req[\"results\"][0][\"geometry\"][\"location\"][\"lat\"],req[\"results\"][0][\"geometry\"][\"location\"][\"lng\"]])\n",
    "    except:\n",
    "        pass\n",
    "locs"
   ]
  },
  {
   "cell_type": "code",
   "execution_count": 14,
   "metadata": {},
   "outputs": [
    {
     "data": {
      "text/plain": [
       "['Ulitsa Tolstogo, 36, Ust-Kut',\n",
       " '108 Robinson St, Carnarvon',\n",
       " 'Kabeljou, Hentiesbaai',\n",
       " 'Ayers Rock, Yulara Dr, Yulara',\n",
       " 'р-н',\n",
       " '82 Barrett Dr, Alice Springs',\n",
       " \"Sheer Bastion, Triq Il-31 Ta'Marzu, L-Isla\",\n",
       " 'The Esplanade, Walvis Bay',\n",
       " 'Arandis',\n",
       " 'Buryatia, Russia, 671610',\n",
       " 'Aswan Island, Sheyakhah Oula, Aswan First',\n",
       " 'Mizdah',\n",
       " 'استان خراسان رضوی مشهد بلوار امام رضا، Beyt-ol-Moqaddas Square',\n",
       " '7869 طريق الملك خالد، Sakaka',\n",
       " '46917، استان مازندران رامسر، Rajaei St',\n",
       " 'Orta Mah. Barbaros Caddesi No:119 Finke 1, Finike',\n",
       " 'Derna']"
      ]
     },
     "execution_count": 14,
     "metadata": {},
     "output_type": "execute_result"
    }
   ],
   "source": [
    "country\n"
   ]
  },
  {
   "cell_type": "code",
   "execution_count": 16,
   "metadata": {},
   "outputs": [
    {
     "data": {
      "application/vnd.jupyter.widget-view+json": {
       "model_id": "3cde3dc337fd4ec98edaaf53ffa2ae61",
       "version_major": 2,
       "version_minor": 0
      },
      "text/plain": [
       "Figure(layout=FigureLayout(border='1px solid black', height='600px', margin='0 auto 0 auto', padding='1px', wi…"
      ]
     },
     "metadata": {},
     "output_type": "display_data"
    }
   ],
   "source": [
    "figure_layout = {\n",
    "    'width': '800px',\n",
    "    'height': '600px',\n",
    "    'border': '1px solid black',\n",
    "    'padding': '1px',\n",
    "    'margin': '0 auto 0 auto'\n",
    "}\n",
    "fig = gmaps.figure(layout=figure_layout)\n",
    "markers = gmaps.marker_layer(locs, info_box_content=[f\"{hotel[i]},   {country[i]}\" for i in range(len(hotel))])\n",
    "fig.add_layer(markers)\n",
    "fig\n"
   ]
  },
  {
   "cell_type": "code",
   "execution_count": null,
   "metadata": {},
   "outputs": [],
   "source": []
  }
 ],
 "metadata": {
  "kernelspec": {
   "display_name": "Python [conda env:.conda-PythonData] *",
   "language": "python",
   "name": "conda-env-.conda-PythonData-py"
  },
  "language_info": {
   "codemirror_mode": {
    "name": "ipython",
    "version": 3
   },
   "file_extension": ".py",
   "mimetype": "text/x-python",
   "name": "python",
   "nbconvert_exporter": "python",
   "pygments_lexer": "ipython3",
   "version": "3.8.3"
  }
 },
 "nbformat": 4,
 "nbformat_minor": 4
}
